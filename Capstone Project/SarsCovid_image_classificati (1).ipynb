{
  "cells": [
    {
      "cell_type": "code",
      "execution_count": 1,
      "metadata": {
        "id": "9F0rqqVHOhQ1"
      },
      "outputs": [],
      "source": [
        "import sys\n",
        "\n",
        "IN_COLAB = 'google.colab' in sys.modules\n",
        "RUN_TRAINING_CELLS = IN_COLAB\n",
        "\n",
        "EXPERIMENT_NAME = 'Covid_NonCovid_image_classification/'\n",
        "DRIVE_FOLDER_LOCATION = '/content/drive/My Drive/My projects/' + EXPERIMENT_NAME"
      ]
    },
    {
      "cell_type": "code",
      "execution_count": 2,
      "metadata": {
        "colab": {
          "base_uri": "https://localhost:8080/"
        },
        "id": "nnxykCnpPBnD",
        "outputId": "dd2bce62-34de-4e73-8a6e-78c2aece7263"
      },
      "outputs": [
        {
          "output_type": "stream",
          "name": "stdout",
          "text": [
            "Mounted at /content/drive\n"
          ]
        }
      ],
      "source": [
        "# Mounting google drive\n",
        "if IN_COLAB:\n",
        "    from google.colab import drive\n",
        "\n",
        "    drive.mount('/content/drive', force_remount=True)"
      ]
    },
    {
      "cell_type": "markdown",
      "source": [
        "# Importing Libraries"
      ],
      "metadata": {
        "id": "9dkSNm3HljnY"
      }
    },
    {
      "cell_type": "code",
      "execution_count": 3,
      "metadata": {
        "id": "cUQ5B33bLa92"
      },
      "outputs": [],
      "source": [
        "import glob\n",
        "import os\n",
        "import pandas as pd\n",
        "from numpy import expand_dims\n",
        "from keras.preprocessing.image import load_img,img_to_array,ImageDataGenerator\n",
        "from matplotlib import pyplot"
      ]
    },
    {
      "cell_type": "markdown",
      "source": [
        "# Creating Dataframe for Non_Covid type image files"
      ],
      "metadata": {
        "id": "GkFct-0Wls-H"
      }
    },
    {
      "cell_type": "code",
      "execution_count": 4,
      "metadata": {
        "id": "qx7zsFpGNdHy"
      },
      "outputs": [],
      "source": [
        "Non_Covid=[]\n",
        "img_path=[]\n",
        "for i in glob.glob(\"/content/drive/MyDrive/My projects/Covid_or_notCovid_image_classification/non-COVID/\"+'*.png'):\n",
        "  img_path.append(i)\n",
        "  label='Non-covid'\n",
        "  Non_Covid.append(label)"
      ]
    },
    {
      "cell_type": "code",
      "execution_count": 5,
      "metadata": {
        "colab": {
          "base_uri": "https://localhost:8080/",
          "height": 206
        },
        "id": "V5miKKmzOJgb",
        "outputId": "d951f50e-2b44-4fe4-87f7-8b8bd87d0ca5"
      },
      "outputs": [
        {
          "output_type": "execute_result",
          "data": {
            "text/plain": [
              "                                                File     Labels\n",
              "0  /content/drive/MyDrive/My projects/Covid_or_no...  Non-covid\n",
              "1  /content/drive/MyDrive/My projects/Covid_or_no...  Non-covid\n",
              "2  /content/drive/MyDrive/My projects/Covid_or_no...  Non-covid\n",
              "3  /content/drive/MyDrive/My projects/Covid_or_no...  Non-covid\n",
              "4  /content/drive/MyDrive/My projects/Covid_or_no...  Non-covid"
            ],
            "text/html": [
              "\n",
              "  <div id=\"df-3d8fb7f9-b490-49d9-b76a-0a67deabd36c\">\n",
              "    <div class=\"colab-df-container\">\n",
              "      <div>\n",
              "<style scoped>\n",
              "    .dataframe tbody tr th:only-of-type {\n",
              "        vertical-align: middle;\n",
              "    }\n",
              "\n",
              "    .dataframe tbody tr th {\n",
              "        vertical-align: top;\n",
              "    }\n",
              "\n",
              "    .dataframe thead th {\n",
              "        text-align: right;\n",
              "    }\n",
              "</style>\n",
              "<table border=\"1\" class=\"dataframe\">\n",
              "  <thead>\n",
              "    <tr style=\"text-align: right;\">\n",
              "      <th></th>\n",
              "      <th>File</th>\n",
              "      <th>Labels</th>\n",
              "    </tr>\n",
              "  </thead>\n",
              "  <tbody>\n",
              "    <tr>\n",
              "      <th>0</th>\n",
              "      <td>/content/drive/MyDrive/My projects/Covid_or_no...</td>\n",
              "      <td>Non-covid</td>\n",
              "    </tr>\n",
              "    <tr>\n",
              "      <th>1</th>\n",
              "      <td>/content/drive/MyDrive/My projects/Covid_or_no...</td>\n",
              "      <td>Non-covid</td>\n",
              "    </tr>\n",
              "    <tr>\n",
              "      <th>2</th>\n",
              "      <td>/content/drive/MyDrive/My projects/Covid_or_no...</td>\n",
              "      <td>Non-covid</td>\n",
              "    </tr>\n",
              "    <tr>\n",
              "      <th>3</th>\n",
              "      <td>/content/drive/MyDrive/My projects/Covid_or_no...</td>\n",
              "      <td>Non-covid</td>\n",
              "    </tr>\n",
              "    <tr>\n",
              "      <th>4</th>\n",
              "      <td>/content/drive/MyDrive/My projects/Covid_or_no...</td>\n",
              "      <td>Non-covid</td>\n",
              "    </tr>\n",
              "  </tbody>\n",
              "</table>\n",
              "</div>\n",
              "      <button class=\"colab-df-convert\" onclick=\"convertToInteractive('df-3d8fb7f9-b490-49d9-b76a-0a67deabd36c')\"\n",
              "              title=\"Convert this dataframe to an interactive table.\"\n",
              "              style=\"display:none;\">\n",
              "        \n",
              "  <svg xmlns=\"http://www.w3.org/2000/svg\" height=\"24px\"viewBox=\"0 0 24 24\"\n",
              "       width=\"24px\">\n",
              "    <path d=\"M0 0h24v24H0V0z\" fill=\"none\"/>\n",
              "    <path d=\"M18.56 5.44l.94 2.06.94-2.06 2.06-.94-2.06-.94-.94-2.06-.94 2.06-2.06.94zm-11 1L8.5 8.5l.94-2.06 2.06-.94-2.06-.94L8.5 2.5l-.94 2.06-2.06.94zm10 10l.94 2.06.94-2.06 2.06-.94-2.06-.94-.94-2.06-.94 2.06-2.06.94z\"/><path d=\"M17.41 7.96l-1.37-1.37c-.4-.4-.92-.59-1.43-.59-.52 0-1.04.2-1.43.59L10.3 9.45l-7.72 7.72c-.78.78-.78 2.05 0 2.83L4 21.41c.39.39.9.59 1.41.59.51 0 1.02-.2 1.41-.59l7.78-7.78 2.81-2.81c.8-.78.8-2.07 0-2.86zM5.41 20L4 18.59l7.72-7.72 1.47 1.35L5.41 20z\"/>\n",
              "  </svg>\n",
              "      </button>\n",
              "      \n",
              "  <style>\n",
              "    .colab-df-container {\n",
              "      display:flex;\n",
              "      flex-wrap:wrap;\n",
              "      gap: 12px;\n",
              "    }\n",
              "\n",
              "    .colab-df-convert {\n",
              "      background-color: #E8F0FE;\n",
              "      border: none;\n",
              "      border-radius: 50%;\n",
              "      cursor: pointer;\n",
              "      display: none;\n",
              "      fill: #1967D2;\n",
              "      height: 32px;\n",
              "      padding: 0 0 0 0;\n",
              "      width: 32px;\n",
              "    }\n",
              "\n",
              "    .colab-df-convert:hover {\n",
              "      background-color: #E2EBFA;\n",
              "      box-shadow: 0px 1px 2px rgba(60, 64, 67, 0.3), 0px 1px 3px 1px rgba(60, 64, 67, 0.15);\n",
              "      fill: #174EA6;\n",
              "    }\n",
              "\n",
              "    [theme=dark] .colab-df-convert {\n",
              "      background-color: #3B4455;\n",
              "      fill: #D2E3FC;\n",
              "    }\n",
              "\n",
              "    [theme=dark] .colab-df-convert:hover {\n",
              "      background-color: #434B5C;\n",
              "      box-shadow: 0px 1px 3px 1px rgba(0, 0, 0, 0.15);\n",
              "      filter: drop-shadow(0px 1px 2px rgba(0, 0, 0, 0.3));\n",
              "      fill: #FFFFFF;\n",
              "    }\n",
              "  </style>\n",
              "\n",
              "      <script>\n",
              "        const buttonEl =\n",
              "          document.querySelector('#df-3d8fb7f9-b490-49d9-b76a-0a67deabd36c button.colab-df-convert');\n",
              "        buttonEl.style.display =\n",
              "          google.colab.kernel.accessAllowed ? 'block' : 'none';\n",
              "\n",
              "        async function convertToInteractive(key) {\n",
              "          const element = document.querySelector('#df-3d8fb7f9-b490-49d9-b76a-0a67deabd36c');\n",
              "          const dataTable =\n",
              "            await google.colab.kernel.invokeFunction('convertToInteractive',\n",
              "                                                     [key], {});\n",
              "          if (!dataTable) return;\n",
              "\n",
              "          const docLinkHtml = 'Like what you see? Visit the ' +\n",
              "            '<a target=\"_blank\" href=https://colab.research.google.com/notebooks/data_table.ipynb>data table notebook</a>'\n",
              "            + ' to learn more about interactive tables.';\n",
              "          element.innerHTML = '';\n",
              "          dataTable['output_type'] = 'display_data';\n",
              "          await google.colab.output.renderOutput(dataTable, element);\n",
              "          const docLink = document.createElement('div');\n",
              "          docLink.innerHTML = docLinkHtml;\n",
              "          element.appendChild(docLink);\n",
              "        }\n",
              "      </script>\n",
              "    </div>\n",
              "  </div>\n",
              "  "
            ]
          },
          "metadata": {},
          "execution_count": 5
        }
      ],
      "source": [
        "dict1={\"File\":img_path,\"Labels\":Non_Covid}\n",
        "\n",
        "data1=pd.DataFrame(dict1)\n",
        "data1.head()"
      ]
    },
    {
      "cell_type": "markdown",
      "source": [
        "# Creating Dataframe for Covid type image files"
      ],
      "metadata": {
        "id": "0B3BmkrRl2qN"
      }
    },
    {
      "cell_type": "code",
      "execution_count": 6,
      "metadata": {
        "id": "J9JrhTMDOJcX"
      },
      "outputs": [],
      "source": [
        "Covid=[]\n",
        "img_path_covid=[]\n",
        "for i in glob.glob(\"/content/drive/MyDrive/My projects/Covid_or_notCovid_image_classification/COVID/\"+'*.png'):\n",
        "  img_path_covid.append(i)\n",
        "  label='Covid'\n",
        "  Covid.append(label)"
      ]
    },
    {
      "cell_type": "code",
      "execution_count": 7,
      "metadata": {
        "colab": {
          "base_uri": "https://localhost:8080/",
          "height": 143
        },
        "id": "3zb1HQK_OJa5",
        "outputId": "f1e083f6-8b7f-4e6c-87a1-e47ee01f74c3"
      },
      "outputs": [
        {
          "output_type": "execute_result",
          "data": {
            "text/plain": [
              "                                                File Labels\n",
              "0  /content/drive/MyDrive/My projects/Covid_or_no...  Covid\n",
              "1  /content/drive/MyDrive/My projects/Covid_or_no...  Covid\n",
              "2  /content/drive/MyDrive/My projects/Covid_or_no...  Covid"
            ],
            "text/html": [
              "\n",
              "  <div id=\"df-77afc717-cc30-41be-ae4a-a1325b385b38\">\n",
              "    <div class=\"colab-df-container\">\n",
              "      <div>\n",
              "<style scoped>\n",
              "    .dataframe tbody tr th:only-of-type {\n",
              "        vertical-align: middle;\n",
              "    }\n",
              "\n",
              "    .dataframe tbody tr th {\n",
              "        vertical-align: top;\n",
              "    }\n",
              "\n",
              "    .dataframe thead th {\n",
              "        text-align: right;\n",
              "    }\n",
              "</style>\n",
              "<table border=\"1\" class=\"dataframe\">\n",
              "  <thead>\n",
              "    <tr style=\"text-align: right;\">\n",
              "      <th></th>\n",
              "      <th>File</th>\n",
              "      <th>Labels</th>\n",
              "    </tr>\n",
              "  </thead>\n",
              "  <tbody>\n",
              "    <tr>\n",
              "      <th>0</th>\n",
              "      <td>/content/drive/MyDrive/My projects/Covid_or_no...</td>\n",
              "      <td>Covid</td>\n",
              "    </tr>\n",
              "    <tr>\n",
              "      <th>1</th>\n",
              "      <td>/content/drive/MyDrive/My projects/Covid_or_no...</td>\n",
              "      <td>Covid</td>\n",
              "    </tr>\n",
              "    <tr>\n",
              "      <th>2</th>\n",
              "      <td>/content/drive/MyDrive/My projects/Covid_or_no...</td>\n",
              "      <td>Covid</td>\n",
              "    </tr>\n",
              "  </tbody>\n",
              "</table>\n",
              "</div>\n",
              "      <button class=\"colab-df-convert\" onclick=\"convertToInteractive('df-77afc717-cc30-41be-ae4a-a1325b385b38')\"\n",
              "              title=\"Convert this dataframe to an interactive table.\"\n",
              "              style=\"display:none;\">\n",
              "        \n",
              "  <svg xmlns=\"http://www.w3.org/2000/svg\" height=\"24px\"viewBox=\"0 0 24 24\"\n",
              "       width=\"24px\">\n",
              "    <path d=\"M0 0h24v24H0V0z\" fill=\"none\"/>\n",
              "    <path d=\"M18.56 5.44l.94 2.06.94-2.06 2.06-.94-2.06-.94-.94-2.06-.94 2.06-2.06.94zm-11 1L8.5 8.5l.94-2.06 2.06-.94-2.06-.94L8.5 2.5l-.94 2.06-2.06.94zm10 10l.94 2.06.94-2.06 2.06-.94-2.06-.94-.94-2.06-.94 2.06-2.06.94z\"/><path d=\"M17.41 7.96l-1.37-1.37c-.4-.4-.92-.59-1.43-.59-.52 0-1.04.2-1.43.59L10.3 9.45l-7.72 7.72c-.78.78-.78 2.05 0 2.83L4 21.41c.39.39.9.59 1.41.59.51 0 1.02-.2 1.41-.59l7.78-7.78 2.81-2.81c.8-.78.8-2.07 0-2.86zM5.41 20L4 18.59l7.72-7.72 1.47 1.35L5.41 20z\"/>\n",
              "  </svg>\n",
              "      </button>\n",
              "      \n",
              "  <style>\n",
              "    .colab-df-container {\n",
              "      display:flex;\n",
              "      flex-wrap:wrap;\n",
              "      gap: 12px;\n",
              "    }\n",
              "\n",
              "    .colab-df-convert {\n",
              "      background-color: #E8F0FE;\n",
              "      border: none;\n",
              "      border-radius: 50%;\n",
              "      cursor: pointer;\n",
              "      display: none;\n",
              "      fill: #1967D2;\n",
              "      height: 32px;\n",
              "      padding: 0 0 0 0;\n",
              "      width: 32px;\n",
              "    }\n",
              "\n",
              "    .colab-df-convert:hover {\n",
              "      background-color: #E2EBFA;\n",
              "      box-shadow: 0px 1px 2px rgba(60, 64, 67, 0.3), 0px 1px 3px 1px rgba(60, 64, 67, 0.15);\n",
              "      fill: #174EA6;\n",
              "    }\n",
              "\n",
              "    [theme=dark] .colab-df-convert {\n",
              "      background-color: #3B4455;\n",
              "      fill: #D2E3FC;\n",
              "    }\n",
              "\n",
              "    [theme=dark] .colab-df-convert:hover {\n",
              "      background-color: #434B5C;\n",
              "      box-shadow: 0px 1px 3px 1px rgba(0, 0, 0, 0.15);\n",
              "      filter: drop-shadow(0px 1px 2px rgba(0, 0, 0, 0.3));\n",
              "      fill: #FFFFFF;\n",
              "    }\n",
              "  </style>\n",
              "\n",
              "      <script>\n",
              "        const buttonEl =\n",
              "          document.querySelector('#df-77afc717-cc30-41be-ae4a-a1325b385b38 button.colab-df-convert');\n",
              "        buttonEl.style.display =\n",
              "          google.colab.kernel.accessAllowed ? 'block' : 'none';\n",
              "\n",
              "        async function convertToInteractive(key) {\n",
              "          const element = document.querySelector('#df-77afc717-cc30-41be-ae4a-a1325b385b38');\n",
              "          const dataTable =\n",
              "            await google.colab.kernel.invokeFunction('convertToInteractive',\n",
              "                                                     [key], {});\n",
              "          if (!dataTable) return;\n",
              "\n",
              "          const docLinkHtml = 'Like what you see? Visit the ' +\n",
              "            '<a target=\"_blank\" href=https://colab.research.google.com/notebooks/data_table.ipynb>data table notebook</a>'\n",
              "            + ' to learn more about interactive tables.';\n",
              "          element.innerHTML = '';\n",
              "          dataTable['output_type'] = 'display_data';\n",
              "          await google.colab.output.renderOutput(dataTable, element);\n",
              "          const docLink = document.createElement('div');\n",
              "          docLink.innerHTML = docLinkHtml;\n",
              "          element.appendChild(docLink);\n",
              "        }\n",
              "      </script>\n",
              "    </div>\n",
              "  </div>\n",
              "  "
            ]
          },
          "metadata": {},
          "execution_count": 7
        }
      ],
      "source": [
        "dict2={\"File\":img_path_covid,\"Labels\":Covid}\n",
        "\n",
        "data2=pd.DataFrame(dict2)\n",
        "data2.head(3)"
      ]
    },
    {
      "cell_type": "markdown",
      "source": [
        "# Adding two dataframes to get final dataframe"
      ],
      "metadata": {
        "id": "KPfe2QwhmCEa"
      }
    },
    {
      "cell_type": "code",
      "execution_count": 8,
      "metadata": {
        "colab": {
          "base_uri": "https://localhost:8080/",
          "height": 143
        },
        "id": "WALPW3kWOJN_",
        "outputId": "07f2c01a-1e47-4fad-a262-e72e13931783"
      },
      "outputs": [
        {
          "output_type": "execute_result",
          "data": {
            "text/plain": [
              "                                                File     Labels\n",
              "0  /content/drive/MyDrive/My projects/Covid_or_no...  Non-covid\n",
              "1  /content/drive/MyDrive/My projects/Covid_or_no...  Non-covid\n",
              "2  /content/drive/MyDrive/My projects/Covid_or_no...  Non-covid"
            ],
            "text/html": [
              "\n",
              "  <div id=\"df-e20d661c-c49e-4fe4-b530-32fa2974c77b\">\n",
              "    <div class=\"colab-df-container\">\n",
              "      <div>\n",
              "<style scoped>\n",
              "    .dataframe tbody tr th:only-of-type {\n",
              "        vertical-align: middle;\n",
              "    }\n",
              "\n",
              "    .dataframe tbody tr th {\n",
              "        vertical-align: top;\n",
              "    }\n",
              "\n",
              "    .dataframe thead th {\n",
              "        text-align: right;\n",
              "    }\n",
              "</style>\n",
              "<table border=\"1\" class=\"dataframe\">\n",
              "  <thead>\n",
              "    <tr style=\"text-align: right;\">\n",
              "      <th></th>\n",
              "      <th>File</th>\n",
              "      <th>Labels</th>\n",
              "    </tr>\n",
              "  </thead>\n",
              "  <tbody>\n",
              "    <tr>\n",
              "      <th>0</th>\n",
              "      <td>/content/drive/MyDrive/My projects/Covid_or_no...</td>\n",
              "      <td>Non-covid</td>\n",
              "    </tr>\n",
              "    <tr>\n",
              "      <th>1</th>\n",
              "      <td>/content/drive/MyDrive/My projects/Covid_or_no...</td>\n",
              "      <td>Non-covid</td>\n",
              "    </tr>\n",
              "    <tr>\n",
              "      <th>2</th>\n",
              "      <td>/content/drive/MyDrive/My projects/Covid_or_no...</td>\n",
              "      <td>Non-covid</td>\n",
              "    </tr>\n",
              "  </tbody>\n",
              "</table>\n",
              "</div>\n",
              "      <button class=\"colab-df-convert\" onclick=\"convertToInteractive('df-e20d661c-c49e-4fe4-b530-32fa2974c77b')\"\n",
              "              title=\"Convert this dataframe to an interactive table.\"\n",
              "              style=\"display:none;\">\n",
              "        \n",
              "  <svg xmlns=\"http://www.w3.org/2000/svg\" height=\"24px\"viewBox=\"0 0 24 24\"\n",
              "       width=\"24px\">\n",
              "    <path d=\"M0 0h24v24H0V0z\" fill=\"none\"/>\n",
              "    <path d=\"M18.56 5.44l.94 2.06.94-2.06 2.06-.94-2.06-.94-.94-2.06-.94 2.06-2.06.94zm-11 1L8.5 8.5l.94-2.06 2.06-.94-2.06-.94L8.5 2.5l-.94 2.06-2.06.94zm10 10l.94 2.06.94-2.06 2.06-.94-2.06-.94-.94-2.06-.94 2.06-2.06.94z\"/><path d=\"M17.41 7.96l-1.37-1.37c-.4-.4-.92-.59-1.43-.59-.52 0-1.04.2-1.43.59L10.3 9.45l-7.72 7.72c-.78.78-.78 2.05 0 2.83L4 21.41c.39.39.9.59 1.41.59.51 0 1.02-.2 1.41-.59l7.78-7.78 2.81-2.81c.8-.78.8-2.07 0-2.86zM5.41 20L4 18.59l7.72-7.72 1.47 1.35L5.41 20z\"/>\n",
              "  </svg>\n",
              "      </button>\n",
              "      \n",
              "  <style>\n",
              "    .colab-df-container {\n",
              "      display:flex;\n",
              "      flex-wrap:wrap;\n",
              "      gap: 12px;\n",
              "    }\n",
              "\n",
              "    .colab-df-convert {\n",
              "      background-color: #E8F0FE;\n",
              "      border: none;\n",
              "      border-radius: 50%;\n",
              "      cursor: pointer;\n",
              "      display: none;\n",
              "      fill: #1967D2;\n",
              "      height: 32px;\n",
              "      padding: 0 0 0 0;\n",
              "      width: 32px;\n",
              "    }\n",
              "\n",
              "    .colab-df-convert:hover {\n",
              "      background-color: #E2EBFA;\n",
              "      box-shadow: 0px 1px 2px rgba(60, 64, 67, 0.3), 0px 1px 3px 1px rgba(60, 64, 67, 0.15);\n",
              "      fill: #174EA6;\n",
              "    }\n",
              "\n",
              "    [theme=dark] .colab-df-convert {\n",
              "      background-color: #3B4455;\n",
              "      fill: #D2E3FC;\n",
              "    }\n",
              "\n",
              "    [theme=dark] .colab-df-convert:hover {\n",
              "      background-color: #434B5C;\n",
              "      box-shadow: 0px 1px 3px 1px rgba(0, 0, 0, 0.15);\n",
              "      filter: drop-shadow(0px 1px 2px rgba(0, 0, 0, 0.3));\n",
              "      fill: #FFFFFF;\n",
              "    }\n",
              "  </style>\n",
              "\n",
              "      <script>\n",
              "        const buttonEl =\n",
              "          document.querySelector('#df-e20d661c-c49e-4fe4-b530-32fa2974c77b button.colab-df-convert');\n",
              "        buttonEl.style.display =\n",
              "          google.colab.kernel.accessAllowed ? 'block' : 'none';\n",
              "\n",
              "        async function convertToInteractive(key) {\n",
              "          const element = document.querySelector('#df-e20d661c-c49e-4fe4-b530-32fa2974c77b');\n",
              "          const dataTable =\n",
              "            await google.colab.kernel.invokeFunction('convertToInteractive',\n",
              "                                                     [key], {});\n",
              "          if (!dataTable) return;\n",
              "\n",
              "          const docLinkHtml = 'Like what you see? Visit the ' +\n",
              "            '<a target=\"_blank\" href=https://colab.research.google.com/notebooks/data_table.ipynb>data table notebook</a>'\n",
              "            + ' to learn more about interactive tables.';\n",
              "          element.innerHTML = '';\n",
              "          dataTable['output_type'] = 'display_data';\n",
              "          await google.colab.output.renderOutput(dataTable, element);\n",
              "          const docLink = document.createElement('div');\n",
              "          docLink.innerHTML = docLinkHtml;\n",
              "          element.appendChild(docLink);\n",
              "        }\n",
              "      </script>\n",
              "    </div>\n",
              "  </div>\n",
              "  "
            ]
          },
          "metadata": {},
          "execution_count": 8
        }
      ],
      "source": [
        "master_data=pd.concat([data1,data2])\n",
        "master_data.head(3)"
      ]
    },
    {
      "cell_type": "code",
      "execution_count": 9,
      "metadata": {
        "colab": {
          "base_uri": "https://localhost:8080/",
          "height": 424
        },
        "id": "LVdBI7dUUHSs",
        "outputId": "b701ef66-7e78-4aaa-8d2e-97d165c98990"
      },
      "outputs": [
        {
          "output_type": "execute_result",
          "data": {
            "text/plain": [
              "      index                                               File     Labels\n",
              "0         0  /content/drive/MyDrive/My projects/Covid_or_no...  Non-covid\n",
              "1         1  /content/drive/MyDrive/My projects/Covid_or_no...  Non-covid\n",
              "2         2  /content/drive/MyDrive/My projects/Covid_or_no...  Non-covid\n",
              "3         3  /content/drive/MyDrive/My projects/Covid_or_no...  Non-covid\n",
              "4         4  /content/drive/MyDrive/My projects/Covid_or_no...  Non-covid\n",
              "...     ...                                                ...        ...\n",
              "2475   1246  /content/drive/MyDrive/My projects/Covid_or_no...      Covid\n",
              "2476   1247  /content/drive/MyDrive/My projects/Covid_or_no...      Covid\n",
              "2477   1248  /content/drive/MyDrive/My projects/Covid_or_no...      Covid\n",
              "2478   1249  /content/drive/MyDrive/My projects/Covid_or_no...      Covid\n",
              "2479   1250  /content/drive/MyDrive/My projects/Covid_or_no...      Covid\n",
              "\n",
              "[2480 rows x 3 columns]"
            ],
            "text/html": [
              "\n",
              "  <div id=\"df-8749b71d-77a1-42f4-839c-6d5317c58d99\">\n",
              "    <div class=\"colab-df-container\">\n",
              "      <div>\n",
              "<style scoped>\n",
              "    .dataframe tbody tr th:only-of-type {\n",
              "        vertical-align: middle;\n",
              "    }\n",
              "\n",
              "    .dataframe tbody tr th {\n",
              "        vertical-align: top;\n",
              "    }\n",
              "\n",
              "    .dataframe thead th {\n",
              "        text-align: right;\n",
              "    }\n",
              "</style>\n",
              "<table border=\"1\" class=\"dataframe\">\n",
              "  <thead>\n",
              "    <tr style=\"text-align: right;\">\n",
              "      <th></th>\n",
              "      <th>index</th>\n",
              "      <th>File</th>\n",
              "      <th>Labels</th>\n",
              "    </tr>\n",
              "  </thead>\n",
              "  <tbody>\n",
              "    <tr>\n",
              "      <th>0</th>\n",
              "      <td>0</td>\n",
              "      <td>/content/drive/MyDrive/My projects/Covid_or_no...</td>\n",
              "      <td>Non-covid</td>\n",
              "    </tr>\n",
              "    <tr>\n",
              "      <th>1</th>\n",
              "      <td>1</td>\n",
              "      <td>/content/drive/MyDrive/My projects/Covid_or_no...</td>\n",
              "      <td>Non-covid</td>\n",
              "    </tr>\n",
              "    <tr>\n",
              "      <th>2</th>\n",
              "      <td>2</td>\n",
              "      <td>/content/drive/MyDrive/My projects/Covid_or_no...</td>\n",
              "      <td>Non-covid</td>\n",
              "    </tr>\n",
              "    <tr>\n",
              "      <th>3</th>\n",
              "      <td>3</td>\n",
              "      <td>/content/drive/MyDrive/My projects/Covid_or_no...</td>\n",
              "      <td>Non-covid</td>\n",
              "    </tr>\n",
              "    <tr>\n",
              "      <th>4</th>\n",
              "      <td>4</td>\n",
              "      <td>/content/drive/MyDrive/My projects/Covid_or_no...</td>\n",
              "      <td>Non-covid</td>\n",
              "    </tr>\n",
              "    <tr>\n",
              "      <th>...</th>\n",
              "      <td>...</td>\n",
              "      <td>...</td>\n",
              "      <td>...</td>\n",
              "    </tr>\n",
              "    <tr>\n",
              "      <th>2475</th>\n",
              "      <td>1246</td>\n",
              "      <td>/content/drive/MyDrive/My projects/Covid_or_no...</td>\n",
              "      <td>Covid</td>\n",
              "    </tr>\n",
              "    <tr>\n",
              "      <th>2476</th>\n",
              "      <td>1247</td>\n",
              "      <td>/content/drive/MyDrive/My projects/Covid_or_no...</td>\n",
              "      <td>Covid</td>\n",
              "    </tr>\n",
              "    <tr>\n",
              "      <th>2477</th>\n",
              "      <td>1248</td>\n",
              "      <td>/content/drive/MyDrive/My projects/Covid_or_no...</td>\n",
              "      <td>Covid</td>\n",
              "    </tr>\n",
              "    <tr>\n",
              "      <th>2478</th>\n",
              "      <td>1249</td>\n",
              "      <td>/content/drive/MyDrive/My projects/Covid_or_no...</td>\n",
              "      <td>Covid</td>\n",
              "    </tr>\n",
              "    <tr>\n",
              "      <th>2479</th>\n",
              "      <td>1250</td>\n",
              "      <td>/content/drive/MyDrive/My projects/Covid_or_no...</td>\n",
              "      <td>Covid</td>\n",
              "    </tr>\n",
              "  </tbody>\n",
              "</table>\n",
              "<p>2480 rows × 3 columns</p>\n",
              "</div>\n",
              "      <button class=\"colab-df-convert\" onclick=\"convertToInteractive('df-8749b71d-77a1-42f4-839c-6d5317c58d99')\"\n",
              "              title=\"Convert this dataframe to an interactive table.\"\n",
              "              style=\"display:none;\">\n",
              "        \n",
              "  <svg xmlns=\"http://www.w3.org/2000/svg\" height=\"24px\"viewBox=\"0 0 24 24\"\n",
              "       width=\"24px\">\n",
              "    <path d=\"M0 0h24v24H0V0z\" fill=\"none\"/>\n",
              "    <path d=\"M18.56 5.44l.94 2.06.94-2.06 2.06-.94-2.06-.94-.94-2.06-.94 2.06-2.06.94zm-11 1L8.5 8.5l.94-2.06 2.06-.94-2.06-.94L8.5 2.5l-.94 2.06-2.06.94zm10 10l.94 2.06.94-2.06 2.06-.94-2.06-.94-.94-2.06-.94 2.06-2.06.94z\"/><path d=\"M17.41 7.96l-1.37-1.37c-.4-.4-.92-.59-1.43-.59-.52 0-1.04.2-1.43.59L10.3 9.45l-7.72 7.72c-.78.78-.78 2.05 0 2.83L4 21.41c.39.39.9.59 1.41.59.51 0 1.02-.2 1.41-.59l7.78-7.78 2.81-2.81c.8-.78.8-2.07 0-2.86zM5.41 20L4 18.59l7.72-7.72 1.47 1.35L5.41 20z\"/>\n",
              "  </svg>\n",
              "      </button>\n",
              "      \n",
              "  <style>\n",
              "    .colab-df-container {\n",
              "      display:flex;\n",
              "      flex-wrap:wrap;\n",
              "      gap: 12px;\n",
              "    }\n",
              "\n",
              "    .colab-df-convert {\n",
              "      background-color: #E8F0FE;\n",
              "      border: none;\n",
              "      border-radius: 50%;\n",
              "      cursor: pointer;\n",
              "      display: none;\n",
              "      fill: #1967D2;\n",
              "      height: 32px;\n",
              "      padding: 0 0 0 0;\n",
              "      width: 32px;\n",
              "    }\n",
              "\n",
              "    .colab-df-convert:hover {\n",
              "      background-color: #E2EBFA;\n",
              "      box-shadow: 0px 1px 2px rgba(60, 64, 67, 0.3), 0px 1px 3px 1px rgba(60, 64, 67, 0.15);\n",
              "      fill: #174EA6;\n",
              "    }\n",
              "\n",
              "    [theme=dark] .colab-df-convert {\n",
              "      background-color: #3B4455;\n",
              "      fill: #D2E3FC;\n",
              "    }\n",
              "\n",
              "    [theme=dark] .colab-df-convert:hover {\n",
              "      background-color: #434B5C;\n",
              "      box-shadow: 0px 1px 3px 1px rgba(0, 0, 0, 0.15);\n",
              "      filter: drop-shadow(0px 1px 2px rgba(0, 0, 0, 0.3));\n",
              "      fill: #FFFFFF;\n",
              "    }\n",
              "  </style>\n",
              "\n",
              "      <script>\n",
              "        const buttonEl =\n",
              "          document.querySelector('#df-8749b71d-77a1-42f4-839c-6d5317c58d99 button.colab-df-convert');\n",
              "        buttonEl.style.display =\n",
              "          google.colab.kernel.accessAllowed ? 'block' : 'none';\n",
              "\n",
              "        async function convertToInteractive(key) {\n",
              "          const element = document.querySelector('#df-8749b71d-77a1-42f4-839c-6d5317c58d99');\n",
              "          const dataTable =\n",
              "            await google.colab.kernel.invokeFunction('convertToInteractive',\n",
              "                                                     [key], {});\n",
              "          if (!dataTable) return;\n",
              "\n",
              "          const docLinkHtml = 'Like what you see? Visit the ' +\n",
              "            '<a target=\"_blank\" href=https://colab.research.google.com/notebooks/data_table.ipynb>data table notebook</a>'\n",
              "            + ' to learn more about interactive tables.';\n",
              "          element.innerHTML = '';\n",
              "          dataTable['output_type'] = 'display_data';\n",
              "          await google.colab.output.renderOutput(dataTable, element);\n",
              "          const docLink = document.createElement('div');\n",
              "          docLink.innerHTML = docLinkHtml;\n",
              "          element.appendChild(docLink);\n",
              "        }\n",
              "      </script>\n",
              "    </div>\n",
              "  </div>\n",
              "  "
            ]
          },
          "metadata": {},
          "execution_count": 9
        }
      ],
      "source": [
        "master_data.reset_index(inplace=True)\n",
        "master_data"
      ]
    },
    {
      "cell_type": "code",
      "execution_count": 10,
      "metadata": {
        "id": "RBZ9KGMBUOuF"
      },
      "outputs": [],
      "source": [
        "master_data.to_csv('master_data.csv',index=False)"
      ]
    },
    {
      "cell_type": "code",
      "execution_count": 11,
      "metadata": {
        "id": "nWKhqRWQU9SP"
      },
      "outputs": [],
      "source": [
        "import sklearn"
      ]
    },
    {
      "cell_type": "code",
      "execution_count": 12,
      "metadata": {
        "id": "GJhYH6ZbVDu8"
      },
      "outputs": [],
      "source": [
        "m_data=pd.read_csv('/content/master_data.csv')"
      ]
    },
    {
      "cell_type": "code",
      "execution_count": 13,
      "metadata": {
        "colab": {
          "base_uri": "https://localhost:8080/",
          "height": 424
        },
        "id": "rSoNluTFVNZH",
        "outputId": "c3467b34-455e-4667-a522-44d76a167768"
      },
      "outputs": [
        {
          "output_type": "execute_result",
          "data": {
            "text/plain": [
              "      index                                               File     Labels\n",
              "0         0  /content/drive/MyDrive/My projects/Covid_or_no...  Non-covid\n",
              "1         1  /content/drive/MyDrive/My projects/Covid_or_no...  Non-covid\n",
              "2         2  /content/drive/MyDrive/My projects/Covid_or_no...  Non-covid\n",
              "3         3  /content/drive/MyDrive/My projects/Covid_or_no...  Non-covid\n",
              "4         4  /content/drive/MyDrive/My projects/Covid_or_no...  Non-covid\n",
              "...     ...                                                ...        ...\n",
              "2475   1246  /content/drive/MyDrive/My projects/Covid_or_no...      Covid\n",
              "2476   1247  /content/drive/MyDrive/My projects/Covid_or_no...      Covid\n",
              "2477   1248  /content/drive/MyDrive/My projects/Covid_or_no...      Covid\n",
              "2478   1249  /content/drive/MyDrive/My projects/Covid_or_no...      Covid\n",
              "2479   1250  /content/drive/MyDrive/My projects/Covid_or_no...      Covid\n",
              "\n",
              "[2480 rows x 3 columns]"
            ],
            "text/html": [
              "\n",
              "  <div id=\"df-27a928de-29c5-4222-be71-d56a43c958a3\">\n",
              "    <div class=\"colab-df-container\">\n",
              "      <div>\n",
              "<style scoped>\n",
              "    .dataframe tbody tr th:only-of-type {\n",
              "        vertical-align: middle;\n",
              "    }\n",
              "\n",
              "    .dataframe tbody tr th {\n",
              "        vertical-align: top;\n",
              "    }\n",
              "\n",
              "    .dataframe thead th {\n",
              "        text-align: right;\n",
              "    }\n",
              "</style>\n",
              "<table border=\"1\" class=\"dataframe\">\n",
              "  <thead>\n",
              "    <tr style=\"text-align: right;\">\n",
              "      <th></th>\n",
              "      <th>index</th>\n",
              "      <th>File</th>\n",
              "      <th>Labels</th>\n",
              "    </tr>\n",
              "  </thead>\n",
              "  <tbody>\n",
              "    <tr>\n",
              "      <th>0</th>\n",
              "      <td>0</td>\n",
              "      <td>/content/drive/MyDrive/My projects/Covid_or_no...</td>\n",
              "      <td>Non-covid</td>\n",
              "    </tr>\n",
              "    <tr>\n",
              "      <th>1</th>\n",
              "      <td>1</td>\n",
              "      <td>/content/drive/MyDrive/My projects/Covid_or_no...</td>\n",
              "      <td>Non-covid</td>\n",
              "    </tr>\n",
              "    <tr>\n",
              "      <th>2</th>\n",
              "      <td>2</td>\n",
              "      <td>/content/drive/MyDrive/My projects/Covid_or_no...</td>\n",
              "      <td>Non-covid</td>\n",
              "    </tr>\n",
              "    <tr>\n",
              "      <th>3</th>\n",
              "      <td>3</td>\n",
              "      <td>/content/drive/MyDrive/My projects/Covid_or_no...</td>\n",
              "      <td>Non-covid</td>\n",
              "    </tr>\n",
              "    <tr>\n",
              "      <th>4</th>\n",
              "      <td>4</td>\n",
              "      <td>/content/drive/MyDrive/My projects/Covid_or_no...</td>\n",
              "      <td>Non-covid</td>\n",
              "    </tr>\n",
              "    <tr>\n",
              "      <th>...</th>\n",
              "      <td>...</td>\n",
              "      <td>...</td>\n",
              "      <td>...</td>\n",
              "    </tr>\n",
              "    <tr>\n",
              "      <th>2475</th>\n",
              "      <td>1246</td>\n",
              "      <td>/content/drive/MyDrive/My projects/Covid_or_no...</td>\n",
              "      <td>Covid</td>\n",
              "    </tr>\n",
              "    <tr>\n",
              "      <th>2476</th>\n",
              "      <td>1247</td>\n",
              "      <td>/content/drive/MyDrive/My projects/Covid_or_no...</td>\n",
              "      <td>Covid</td>\n",
              "    </tr>\n",
              "    <tr>\n",
              "      <th>2477</th>\n",
              "      <td>1248</td>\n",
              "      <td>/content/drive/MyDrive/My projects/Covid_or_no...</td>\n",
              "      <td>Covid</td>\n",
              "    </tr>\n",
              "    <tr>\n",
              "      <th>2478</th>\n",
              "      <td>1249</td>\n",
              "      <td>/content/drive/MyDrive/My projects/Covid_or_no...</td>\n",
              "      <td>Covid</td>\n",
              "    </tr>\n",
              "    <tr>\n",
              "      <th>2479</th>\n",
              "      <td>1250</td>\n",
              "      <td>/content/drive/MyDrive/My projects/Covid_or_no...</td>\n",
              "      <td>Covid</td>\n",
              "    </tr>\n",
              "  </tbody>\n",
              "</table>\n",
              "<p>2480 rows × 3 columns</p>\n",
              "</div>\n",
              "      <button class=\"colab-df-convert\" onclick=\"convertToInteractive('df-27a928de-29c5-4222-be71-d56a43c958a3')\"\n",
              "              title=\"Convert this dataframe to an interactive table.\"\n",
              "              style=\"display:none;\">\n",
              "        \n",
              "  <svg xmlns=\"http://www.w3.org/2000/svg\" height=\"24px\"viewBox=\"0 0 24 24\"\n",
              "       width=\"24px\">\n",
              "    <path d=\"M0 0h24v24H0V0z\" fill=\"none\"/>\n",
              "    <path d=\"M18.56 5.44l.94 2.06.94-2.06 2.06-.94-2.06-.94-.94-2.06-.94 2.06-2.06.94zm-11 1L8.5 8.5l.94-2.06 2.06-.94-2.06-.94L8.5 2.5l-.94 2.06-2.06.94zm10 10l.94 2.06.94-2.06 2.06-.94-2.06-.94-.94-2.06-.94 2.06-2.06.94z\"/><path d=\"M17.41 7.96l-1.37-1.37c-.4-.4-.92-.59-1.43-.59-.52 0-1.04.2-1.43.59L10.3 9.45l-7.72 7.72c-.78.78-.78 2.05 0 2.83L4 21.41c.39.39.9.59 1.41.59.51 0 1.02-.2 1.41-.59l7.78-7.78 2.81-2.81c.8-.78.8-2.07 0-2.86zM5.41 20L4 18.59l7.72-7.72 1.47 1.35L5.41 20z\"/>\n",
              "  </svg>\n",
              "      </button>\n",
              "      \n",
              "  <style>\n",
              "    .colab-df-container {\n",
              "      display:flex;\n",
              "      flex-wrap:wrap;\n",
              "      gap: 12px;\n",
              "    }\n",
              "\n",
              "    .colab-df-convert {\n",
              "      background-color: #E8F0FE;\n",
              "      border: none;\n",
              "      border-radius: 50%;\n",
              "      cursor: pointer;\n",
              "      display: none;\n",
              "      fill: #1967D2;\n",
              "      height: 32px;\n",
              "      padding: 0 0 0 0;\n",
              "      width: 32px;\n",
              "    }\n",
              "\n",
              "    .colab-df-convert:hover {\n",
              "      background-color: #E2EBFA;\n",
              "      box-shadow: 0px 1px 2px rgba(60, 64, 67, 0.3), 0px 1px 3px 1px rgba(60, 64, 67, 0.15);\n",
              "      fill: #174EA6;\n",
              "    }\n",
              "\n",
              "    [theme=dark] .colab-df-convert {\n",
              "      background-color: #3B4455;\n",
              "      fill: #D2E3FC;\n",
              "    }\n",
              "\n",
              "    [theme=dark] .colab-df-convert:hover {\n",
              "      background-color: #434B5C;\n",
              "      box-shadow: 0px 1px 3px 1px rgba(0, 0, 0, 0.15);\n",
              "      filter: drop-shadow(0px 1px 2px rgba(0, 0, 0, 0.3));\n",
              "      fill: #FFFFFF;\n",
              "    }\n",
              "  </style>\n",
              "\n",
              "      <script>\n",
              "        const buttonEl =\n",
              "          document.querySelector('#df-27a928de-29c5-4222-be71-d56a43c958a3 button.colab-df-convert');\n",
              "        buttonEl.style.display =\n",
              "          google.colab.kernel.accessAllowed ? 'block' : 'none';\n",
              "\n",
              "        async function convertToInteractive(key) {\n",
              "          const element = document.querySelector('#df-27a928de-29c5-4222-be71-d56a43c958a3');\n",
              "          const dataTable =\n",
              "            await google.colab.kernel.invokeFunction('convertToInteractive',\n",
              "                                                     [key], {});\n",
              "          if (!dataTable) return;\n",
              "\n",
              "          const docLinkHtml = 'Like what you see? Visit the ' +\n",
              "            '<a target=\"_blank\" href=https://colab.research.google.com/notebooks/data_table.ipynb>data table notebook</a>'\n",
              "            + ' to learn more about interactive tables.';\n",
              "          element.innerHTML = '';\n",
              "          dataTable['output_type'] = 'display_data';\n",
              "          await google.colab.output.renderOutput(dataTable, element);\n",
              "          const docLink = document.createElement('div');\n",
              "          docLink.innerHTML = docLinkHtml;\n",
              "          element.appendChild(docLink);\n",
              "        }\n",
              "      </script>\n",
              "    </div>\n",
              "  </div>\n",
              "  "
            ]
          },
          "metadata": {},
          "execution_count": 13
        }
      ],
      "source": [
        "m_data"
      ]
    },
    {
      "cell_type": "code",
      "execution_count": 14,
      "metadata": {
        "colab": {
          "base_uri": "https://localhost:8080/",
          "height": 424
        },
        "id": "QrdtuULlVfaf",
        "outputId": "01212165-5725-4eb9-a60b-7924512fa082"
      },
      "outputs": [
        {
          "output_type": "execute_result",
          "data": {
            "text/plain": [
              "      index                                               File     Labels\n",
              "966     966  /content/drive/MyDrive/My projects/Covid_or_no...  Non-covid\n",
              "275     275  /content/drive/MyDrive/My projects/Covid_or_no...  Non-covid\n",
              "788     788  /content/drive/MyDrive/My projects/Covid_or_no...  Non-covid\n",
              "320     320  /content/drive/MyDrive/My projects/Covid_or_no...  Non-covid\n",
              "821     821  /content/drive/MyDrive/My projects/Covid_or_no...  Non-covid\n",
              "...     ...                                                ...        ...\n",
              "385     385  /content/drive/MyDrive/My projects/Covid_or_no...  Non-covid\n",
              "1388    159  /content/drive/MyDrive/My projects/Covid_or_no...      Covid\n",
              "1781    552  /content/drive/MyDrive/My projects/Covid_or_no...      Covid\n",
              "897     897  /content/drive/MyDrive/My projects/Covid_or_no...  Non-covid\n",
              "467     467  /content/drive/MyDrive/My projects/Covid_or_no...  Non-covid\n",
              "\n",
              "[2480 rows x 3 columns]"
            ],
            "text/html": [
              "\n",
              "  <div id=\"df-c8393cd2-71cc-418b-8c11-e1b199572d25\">\n",
              "    <div class=\"colab-df-container\">\n",
              "      <div>\n",
              "<style scoped>\n",
              "    .dataframe tbody tr th:only-of-type {\n",
              "        vertical-align: middle;\n",
              "    }\n",
              "\n",
              "    .dataframe tbody tr th {\n",
              "        vertical-align: top;\n",
              "    }\n",
              "\n",
              "    .dataframe thead th {\n",
              "        text-align: right;\n",
              "    }\n",
              "</style>\n",
              "<table border=\"1\" class=\"dataframe\">\n",
              "  <thead>\n",
              "    <tr style=\"text-align: right;\">\n",
              "      <th></th>\n",
              "      <th>index</th>\n",
              "      <th>File</th>\n",
              "      <th>Labels</th>\n",
              "    </tr>\n",
              "  </thead>\n",
              "  <tbody>\n",
              "    <tr>\n",
              "      <th>966</th>\n",
              "      <td>966</td>\n",
              "      <td>/content/drive/MyDrive/My projects/Covid_or_no...</td>\n",
              "      <td>Non-covid</td>\n",
              "    </tr>\n",
              "    <tr>\n",
              "      <th>275</th>\n",
              "      <td>275</td>\n",
              "      <td>/content/drive/MyDrive/My projects/Covid_or_no...</td>\n",
              "      <td>Non-covid</td>\n",
              "    </tr>\n",
              "    <tr>\n",
              "      <th>788</th>\n",
              "      <td>788</td>\n",
              "      <td>/content/drive/MyDrive/My projects/Covid_or_no...</td>\n",
              "      <td>Non-covid</td>\n",
              "    </tr>\n",
              "    <tr>\n",
              "      <th>320</th>\n",
              "      <td>320</td>\n",
              "      <td>/content/drive/MyDrive/My projects/Covid_or_no...</td>\n",
              "      <td>Non-covid</td>\n",
              "    </tr>\n",
              "    <tr>\n",
              "      <th>821</th>\n",
              "      <td>821</td>\n",
              "      <td>/content/drive/MyDrive/My projects/Covid_or_no...</td>\n",
              "      <td>Non-covid</td>\n",
              "    </tr>\n",
              "    <tr>\n",
              "      <th>...</th>\n",
              "      <td>...</td>\n",
              "      <td>...</td>\n",
              "      <td>...</td>\n",
              "    </tr>\n",
              "    <tr>\n",
              "      <th>385</th>\n",
              "      <td>385</td>\n",
              "      <td>/content/drive/MyDrive/My projects/Covid_or_no...</td>\n",
              "      <td>Non-covid</td>\n",
              "    </tr>\n",
              "    <tr>\n",
              "      <th>1388</th>\n",
              "      <td>159</td>\n",
              "      <td>/content/drive/MyDrive/My projects/Covid_or_no...</td>\n",
              "      <td>Covid</td>\n",
              "    </tr>\n",
              "    <tr>\n",
              "      <th>1781</th>\n",
              "      <td>552</td>\n",
              "      <td>/content/drive/MyDrive/My projects/Covid_or_no...</td>\n",
              "      <td>Covid</td>\n",
              "    </tr>\n",
              "    <tr>\n",
              "      <th>897</th>\n",
              "      <td>897</td>\n",
              "      <td>/content/drive/MyDrive/My projects/Covid_or_no...</td>\n",
              "      <td>Non-covid</td>\n",
              "    </tr>\n",
              "    <tr>\n",
              "      <th>467</th>\n",
              "      <td>467</td>\n",
              "      <td>/content/drive/MyDrive/My projects/Covid_or_no...</td>\n",
              "      <td>Non-covid</td>\n",
              "    </tr>\n",
              "  </tbody>\n",
              "</table>\n",
              "<p>2480 rows × 3 columns</p>\n",
              "</div>\n",
              "      <button class=\"colab-df-convert\" onclick=\"convertToInteractive('df-c8393cd2-71cc-418b-8c11-e1b199572d25')\"\n",
              "              title=\"Convert this dataframe to an interactive table.\"\n",
              "              style=\"display:none;\">\n",
              "        \n",
              "  <svg xmlns=\"http://www.w3.org/2000/svg\" height=\"24px\"viewBox=\"0 0 24 24\"\n",
              "       width=\"24px\">\n",
              "    <path d=\"M0 0h24v24H0V0z\" fill=\"none\"/>\n",
              "    <path d=\"M18.56 5.44l.94 2.06.94-2.06 2.06-.94-2.06-.94-.94-2.06-.94 2.06-2.06.94zm-11 1L8.5 8.5l.94-2.06 2.06-.94-2.06-.94L8.5 2.5l-.94 2.06-2.06.94zm10 10l.94 2.06.94-2.06 2.06-.94-2.06-.94-.94-2.06-.94 2.06-2.06.94z\"/><path d=\"M17.41 7.96l-1.37-1.37c-.4-.4-.92-.59-1.43-.59-.52 0-1.04.2-1.43.59L10.3 9.45l-7.72 7.72c-.78.78-.78 2.05 0 2.83L4 21.41c.39.39.9.59 1.41.59.51 0 1.02-.2 1.41-.59l7.78-7.78 2.81-2.81c.8-.78.8-2.07 0-2.86zM5.41 20L4 18.59l7.72-7.72 1.47 1.35L5.41 20z\"/>\n",
              "  </svg>\n",
              "      </button>\n",
              "      \n",
              "  <style>\n",
              "    .colab-df-container {\n",
              "      display:flex;\n",
              "      flex-wrap:wrap;\n",
              "      gap: 12px;\n",
              "    }\n",
              "\n",
              "    .colab-df-convert {\n",
              "      background-color: #E8F0FE;\n",
              "      border: none;\n",
              "      border-radius: 50%;\n",
              "      cursor: pointer;\n",
              "      display: none;\n",
              "      fill: #1967D2;\n",
              "      height: 32px;\n",
              "      padding: 0 0 0 0;\n",
              "      width: 32px;\n",
              "    }\n",
              "\n",
              "    .colab-df-convert:hover {\n",
              "      background-color: #E2EBFA;\n",
              "      box-shadow: 0px 1px 2px rgba(60, 64, 67, 0.3), 0px 1px 3px 1px rgba(60, 64, 67, 0.15);\n",
              "      fill: #174EA6;\n",
              "    }\n",
              "\n",
              "    [theme=dark] .colab-df-convert {\n",
              "      background-color: #3B4455;\n",
              "      fill: #D2E3FC;\n",
              "    }\n",
              "\n",
              "    [theme=dark] .colab-df-convert:hover {\n",
              "      background-color: #434B5C;\n",
              "      box-shadow: 0px 1px 3px 1px rgba(0, 0, 0, 0.15);\n",
              "      filter: drop-shadow(0px 1px 2px rgba(0, 0, 0, 0.3));\n",
              "      fill: #FFFFFF;\n",
              "    }\n",
              "  </style>\n",
              "\n",
              "      <script>\n",
              "        const buttonEl =\n",
              "          document.querySelector('#df-c8393cd2-71cc-418b-8c11-e1b199572d25 button.colab-df-convert');\n",
              "        buttonEl.style.display =\n",
              "          google.colab.kernel.accessAllowed ? 'block' : 'none';\n",
              "\n",
              "        async function convertToInteractive(key) {\n",
              "          const element = document.querySelector('#df-c8393cd2-71cc-418b-8c11-e1b199572d25');\n",
              "          const dataTable =\n",
              "            await google.colab.kernel.invokeFunction('convertToInteractive',\n",
              "                                                     [key], {});\n",
              "          if (!dataTable) return;\n",
              "\n",
              "          const docLinkHtml = 'Like what you see? Visit the ' +\n",
              "            '<a target=\"_blank\" href=https://colab.research.google.com/notebooks/data_table.ipynb>data table notebook</a>'\n",
              "            + ' to learn more about interactive tables.';\n",
              "          element.innerHTML = '';\n",
              "          dataTable['output_type'] = 'display_data';\n",
              "          await google.colab.output.renderOutput(dataTable, element);\n",
              "          const docLink = document.createElement('div');\n",
              "          docLink.innerHTML = docLinkHtml;\n",
              "          element.appendChild(docLink);\n",
              "        }\n",
              "      </script>\n",
              "    </div>\n",
              "  </div>\n",
              "  "
            ]
          },
          "metadata": {},
          "execution_count": 14
        }
      ],
      "source": [
        "# randomly shuffling \n",
        "m_data=sklearn.utils.shuffle(m_data)\n",
        "m_data"
      ]
    },
    {
      "cell_type": "code",
      "execution_count": 15,
      "metadata": {
        "id": "7BSULwdtVkc7"
      },
      "outputs": [],
      "source": [
        "x=m_data.values\n",
        "cols=m_data.columns.values\n",
        "\n",
        "df_train=x[:int(len(x)*.55)]\n",
        "df_val=x[int(len(x)*.55):int(len(x)*.90)]\n",
        "df_eval=x[int(len(x)*.90):]\n",
        "df_train=pd.DataFrame(df_train,columns=cols)\n",
        "df_val=pd.DataFrame(df_val,columns=cols)\n",
        "df_eval=pd.DataFrame(df_eval,columns=cols)"
      ]
    },
    {
      "cell_type": "code",
      "execution_count": 16,
      "metadata": {
        "id": "rPkHBw4jWASL"
      },
      "outputs": [],
      "source": [
        "df_train.to_csv(\"Covid.csv\",index=False)\n",
        "df_val.to_csv(\"Covid_val.csv\",index=False)\n",
        "df_eval.to_csv(\"Covid_eval.csv\",index=False)"
      ]
    },
    {
      "cell_type": "code",
      "execution_count": 17,
      "metadata": {
        "id": "q9ZwF3e6WEEm"
      },
      "outputs": [],
      "source": [
        "import shutil"
      ]
    },
    {
      "cell_type": "code",
      "execution_count": 18,
      "metadata": {
        "id": "DK1HcCnNWlSa"
      },
      "outputs": [],
      "source": [
        "for i in df_train['File']:\n",
        "  shutil.copy(i,'/content/drive/MyDrive/training_folder')"
      ]
    },
    {
      "cell_type": "code",
      "execution_count": 19,
      "metadata": {
        "id": "zOuvZpRKWrnG"
      },
      "outputs": [],
      "source": [
        "for i in df_val['File']:\n",
        "  shutil.copy(i,'/content/drive/MyDrive/test_folder (1)')"
      ]
    },
    {
      "cell_type": "code",
      "execution_count": 20,
      "metadata": {
        "id": "_4ivaKB1W5MZ"
      },
      "outputs": [],
      "source": [
        "from tensorflow.keras.preprocessing.image import ImageDataGenerator"
      ]
    },
    {
      "cell_type": "markdown",
      "source": [
        "# All images are brought down to same scale which makes model to train efficiently"
      ],
      "metadata": {
        "id": "wBr4NrCoaIsM"
      }
    },
    {
      "cell_type": "code",
      "execution_count": 21,
      "metadata": {
        "id": "MVmaCNImW_tk"
      },
      "outputs": [],
      "source": [
        "datagen=ImageDataGenerator(rescale=1./255)"
      ]
    },
    {
      "cell_type": "markdown",
      "source": [
        "# Created train_generator which contain covid & non_covid type image files for training of the model"
      ],
      "metadata": {
        "id": "pPVyTYGeTpwE"
      }
    },
    {
      "cell_type": "code",
      "execution_count": 22,
      "metadata": {
        "id": "T48w9tGYXcCJ",
        "colab": {
          "base_uri": "https://localhost:8080/"
        },
        "outputId": "bf829631-26ed-4941-f485-792377aee458"
      },
      "outputs": [
        {
          "output_type": "stream",
          "name": "stdout",
          "text": [
            "Found 1364 validated image filenames belonging to 2 classes.\n"
          ]
        }
      ],
      "source": [
        "train_generator=datagen.flow_from_dataframe(dataframe=df_train,directory='/content/drive/MyDrive/training_folder',\n",
        "                                            x_col='File',\n",
        "                                            y_col='Labels',\n",
        "                                            class_mode='binary',\n",
        "                                            batch_size=4,\n",
        "                                            target_size=(224,224))"
      ]
    },
    {
      "cell_type": "markdown",
      "source": [
        "# Created test_generator which contain Covid & non_covid type files to check accuracy of trained model"
      ],
      "metadata": {
        "id": "XSb4q-WGT8nL"
      }
    },
    {
      "cell_type": "code",
      "execution_count": 23,
      "metadata": {
        "id": "a9b-T9Y1XeOu",
        "colab": {
          "base_uri": "https://localhost:8080/"
        },
        "outputId": "e515f802-9eee-4f08-804e-6acbc8e6e40c"
      },
      "outputs": [
        {
          "output_type": "stream",
          "name": "stdout",
          "text": [
            "Found 868 validated image filenames belonging to 2 classes.\n"
          ]
        }
      ],
      "source": [
        "validation_generator=datagen.flow_from_dataframe(dataframe=df_val,directory='/content/drive/MyDrive/test_folder (1)',\n",
        "                                            x_col='File',\n",
        "                                            y_col='Labels',\n",
        "                                            class_mode='binary',\n",
        "                                            batch_size=4,\n",
        "                                            target_size=(224,224))"
      ]
    },
    {
      "cell_type": "code",
      "source": [
        "test_generator=datagen.flow_from_dataframe(dataframe=df_eval,directory='/content/drive/MyDrive/test_folder (1)',\n",
        "                                            x_col='File',\n",
        "                                            y_col='Labels',\n",
        "                                            class_mode='binary',\n",
        "                                            batch_size=4,\n",
        "                                            target_size=(224,224))"
      ],
      "metadata": {
        "colab": {
          "base_uri": "https://localhost:8080/"
        },
        "id": "b3kTE9e74aGa",
        "outputId": "5abd7ee5-a053-43b1-95c3-282e2d042bc8"
      },
      "execution_count": 24,
      "outputs": [
        {
          "output_type": "stream",
          "name": "stdout",
          "text": [
            "Found 248 validated image filenames belonging to 2 classes.\n"
          ]
        }
      ]
    },
    {
      "cell_type": "markdown",
      "source": [
        "### Data augmentation techniques which create multiple images from original images so that deep learning model becomes robust ( normally we apply this technique when our image dataset is unclear or not sufficient) <br> Here, we have sufficient amount of images so we can also train model without augmentation"
      ],
      "metadata": {
        "id": "b6e_xD5ja0tH"
      }
    },
    {
      "cell_type": "code",
      "source": [
        "# let's take single image and apply different augmentation techniques on it (we can also apply multiple images and require to store in training directory)\n",
        "img=load_img('/content/drive/MyDrive/My projects/Covid_or_notCovid_image_classification/COVID/Covid (1).png')\n",
        "img"
      ],
      "metadata": {
        "colab": {
          "base_uri": "https://localhost:8080/",
          "height": 219
        },
        "id": "Nos1JZEIcmCM",
        "outputId": "23bf6f6d-4f9f-4180-a836-bbbf20006703"
      },
      "execution_count": 25,
      "outputs": [
        {
          "output_type": "execute_result",
          "data": {
            "text/plain": [
              "<PIL.PngImagePlugin.PngImageFile image mode=RGB size=256x202 at 0x7FA60B8CA250>"
            ],
            "image/png": "[encoded data removed]"
          },
          "metadata": {},
          "execution_count": 25
        }
      ]
    },
    {
      "cell_type": "code",
      "source": [
        "data=img_to_array(img)\n",
        "data"
      ],
      "metadata": {
        "colab": {
          "base_uri": "https://localhost:8080/"
        },
        "id": "uO3HET8Le2E2",
        "outputId": "92e1c291-baa6-4e78-a25a-a2129801391b"
      },
      "execution_count": 26,
      "outputs": [
        {
          "output_type": "execute_result",
          "data": {
            "text/plain": [
              "array([[[190., 190., 190.],\n",
              "        [197., 197., 197.],\n",
              "        [202., 202., 202.],\n",
              "        ...,\n",
              "        [200., 200., 200.],\n",
              "        [191., 191., 191.],\n",
              "        [193., 193., 193.]],\n",
              "\n",
              "       [[189., 189., 189.],\n",
              "        [196., 196., 196.],\n",
              "        [194., 194., 194.],\n",
              "        ...,\n",
              "        [202., 202., 202.],\n",
              "        [200., 200., 200.],\n",
              "        [188., 188., 188.]],\n",
              "\n",
              "       [[195., 195., 195.],\n",
              "        [202., 202., 202.],\n",
              "        [199., 199., 199.],\n",
              "        ...,\n",
              "        [197., 197., 197.],\n",
              "        [194., 194., 194.],\n",
              "        [190., 190., 190.]],\n",
              "\n",
              "       ...,\n",
              "\n",
              "       [[255., 255., 255.],\n",
              "        [255., 255., 255.],\n",
              "        [255., 255., 255.],\n",
              "        ...,\n",
              "        [255., 255., 255.],\n",
              "        [255., 255., 255.],\n",
              "        [255., 255., 255.]],\n",
              "\n",
              "       [[255., 255., 255.],\n",
              "        [255., 255., 255.],\n",
              "        [255., 255., 255.],\n",
              "        ...,\n",
              "        [255., 255., 255.],\n",
              "        [255., 255., 255.],\n",
              "        [255., 255., 255.]],\n",
              "\n",
              "       [[255., 255., 255.],\n",
              "        [255., 255., 255.],\n",
              "        [255., 255., 255.],\n",
              "        ...,\n",
              "        [255., 255., 255.],\n",
              "        [255., 255., 255.],\n",
              "        [255., 255., 255.]]], dtype=float32)"
            ]
          },
          "metadata": {},
          "execution_count": 26
        }
      ]
    },
    {
      "cell_type": "code",
      "source": [
        "# For width shift\n",
        "samples=expand_dims(data,0)\n",
        "datagen=ImageDataGenerator(width_shift_range=0.3)\n",
        "it=datagen.flow(samples,batch_size=1)\n",
        "for i in range(3):\n",
        "  pyplot.subplot(330+1+i)\n",
        "  batch=it.next()\n",
        "  image=batch[0].astype('uint8')\n",
        "  pyplot.imshow(image)\n",
        "\n",
        "pyplot.show()"
      ],
      "metadata": {
        "colab": {
          "base_uri": "https://localhost:8080/",
          "height": 116
        },
        "id": "g0Ei3EbEfIRA",
        "outputId": "12297109-1f86-4343-950a-e93262beecf5"
      },
      "execution_count": 27,
      "outputs": [
        {
          "output_type": "display_data",
          "data": {
            "text/plain": [
              "<Figure size 432x288 with 3 Axes>"
            ],
            "image/png": "[encoded data removed]"
          },
          "metadata": {
            "needs_background": "light"
          }
        }
      ]
    },
    {
      "cell_type": "code",
      "source": [
        "# For rotation\n",
        "samples=expand_dims(data,0)\n",
        "datagen=ImageDataGenerator(rotation_range=40)\n",
        "it=datagen.flow(samples,batch_size=1)\n",
        "for i in range(3):\n",
        "  pyplot.subplot(330+1+i)\n",
        "  batch=it.next()\n",
        "  image=batch[0].astype('uint8')\n",
        "  pyplot.imshow(image)\n",
        "\n",
        "pyplot.show()"
      ],
      "metadata": {
        "colab": {
          "base_uri": "https://localhost:8080/",
          "height": 116
        },
        "id": "_imXmQy3gJRf",
        "outputId": "2c64e165-49ac-4fe5-9c65-a58d8af573fd"
      },
      "execution_count": 28,
      "outputs": [
        {
          "output_type": "display_data",
          "data": {
            "text/plain": [
              "<Figure size 432x288 with 3 Axes>"
            ],
            "image/png": "[encoded data removed]"
          },
          "metadata": {
            "needs_background": "light"
          }
        }
      ]
    },
    {
      "cell_type": "code",
      "source": [
        "# For height shift\n",
        "samples=expand_dims(data,0)\n",
        "datagen=ImageDataGenerator(height_shift_range=90)\n",
        "it=datagen.flow(samples,batch_size=1)\n",
        "for i in range(6):\n",
        "  pyplot.subplot(330+1+i)\n",
        "  batch=it.next()\n",
        "  image=batch[0].astype('uint8')\n",
        "  pyplot.imshow(image)\n",
        "\n",
        "pyplot.show()"
      ],
      "metadata": {
        "colab": {
          "base_uri": "https://localhost:8080/",
          "height": 192
        },
        "id": "9uqCAkxMg2A1",
        "outputId": "20262eb1-472d-4a20-d063-ea954afdfc73"
      },
      "execution_count": 29,
      "outputs": [
        {
          "output_type": "display_data",
          "data": {
            "text/plain": [
              "<Figure size 432x288 with 6 Axes>"
            ],
            "image/png": "[encoded data removed]"
          },
          "metadata": {
            "needs_background": "light"
          }
        }
      ]
    },
    {
      "cell_type": "code",
      "source": [
        "# For shear_range\n",
        "samples=expand_dims(data,0)\n",
        "datagen=ImageDataGenerator(shear_range=3)\n",
        "it=datagen.flow(samples,batch_size=1)\n",
        "for i in range(3):\n",
        "  pyplot.subplot(330+1+i)\n",
        "  batch=it.next()\n",
        "  image=batch[0].astype('uint8')\n",
        "  pyplot.imshow(image)\n",
        "\n",
        "pyplot.show()"
      ],
      "metadata": {
        "colab": {
          "base_uri": "https://localhost:8080/",
          "height": 116
        },
        "id": "zYP_UDxuhSYn",
        "outputId": "8e317b5f-bd67-4f78-a522-b8706bb8bf52"
      },
      "execution_count": 30,
      "outputs": [
        {
          "output_type": "display_data",
          "data": {
            "text/plain": [
              "<Figure size 432x288 with 3 Axes>"
            ],
            "image/png": "[encoded data removed]"
          },
          "metadata": {
            "needs_background": "light"
          }
        }
      ]
    },
    {
      "cell_type": "code",
      "source": [
        "# For zoom range\n",
        "samples=expand_dims(data,0)\n",
        "datagen=ImageDataGenerator(zoom_range=1)\n",
        "it=datagen.flow(samples,batch_size=1)\n",
        "for i in range(3):\n",
        "  pyplot.subplot(330+1+i)\n",
        "  batch=it.next()\n",
        "  image=batch[0].astype('uint8')\n",
        "  pyplot.imshow(image)\n",
        "\n",
        "pyplot.show()"
      ],
      "metadata": {
        "colab": {
          "base_uri": "https://localhost:8080/",
          "height": 116
        },
        "id": "zNpCdc2xhskb",
        "outputId": "7b619254-0a04-44eb-d5e9-f49b7f495ef5"
      },
      "execution_count": 31,
      "outputs": [
        {
          "output_type": "display_data",
          "data": {
            "text/plain": [
              "<Figure size 432x288 with 3 Axes>"
            ],
            "image/png": "[encoded data removed]"
          },
          "metadata": {
            "needs_background": "light"
          }
        }
      ]
    },
    {
      "cell_type": "code",
      "source": [
        "# For horizontal flip\n",
        "# For zoom range\n",
        "samples=expand_dims(data,0)\n",
        "datagen=ImageDataGenerator(horizontal_flip=3)\n",
        "it=datagen.flow(samples,batch_size=1)\n",
        "for i in range(9):\n",
        "  pyplot.subplot(330+1+i)\n",
        "  batch=it.next()\n",
        "  image=batch[0].astype('uint8')\n",
        "  pyplot.imshow(image)\n",
        "\n",
        "pyplot.show()"
      ],
      "metadata": {
        "colab": {
          "base_uri": "https://localhost:8080/",
          "height": 269
        },
        "id": "BAblqoJTh3UM",
        "outputId": "3293dfb6-e9c1-4cd7-b22d-dce72a4b38d2"
      },
      "execution_count": 32,
      "outputs": [
        {
          "output_type": "display_data",
          "data": {
            "text/plain": [
              "<Figure size 432x288 with 9 Axes>"
            ],
            "image/png": "[encoded data removed]"
          },
          "metadata": {
            "needs_background": "light"
          }
        }
      ]
    },
    {
      "cell_type": "code",
      "source": [
        "# Let's combine these all augmentation techniques and save these images in directory which is augmented images\n",
        "datagen = ImageDataGenerator(\n",
        "        rotation_range=30,\n",
        "        width_shift_range=0.3,\n",
        "        height_shift_range=0.1,\n",
        "        rescale=1./255,\n",
        "        shear_range=0.4,\n",
        "        zoom_range=0.4,\n",
        "        horizontal_flip=True,\n",
        "        fill_mode='nearest')\n",
        "\n",
        "img=load_img('/content/drive/MyDrive/My projects/Covid_or_notCovid_image_classification/COVID/Covid (1).png')\n",
        "x=img_to_array(img)\n",
        "x=x.reshape((1,)+x.shape)\n",
        "\n",
        "counter=0\n",
        "\n",
        "for i in datagen.flow(x,batch_size=1,\n",
        "                      save_to_dir='/content/drive/MyDrive/My projects/Covid_or_notCovid_image_classification/Augmented images',save_prefix='Covid',save_format='png'):\n",
        "  counter+=1\n",
        "  if counter>10:\n",
        "    break\n"
      ],
      "metadata": {
        "id": "-2pu9Q8SiCy2"
      },
      "execution_count": 33,
      "outputs": []
    },
    {
      "cell_type": "markdown",
      "source": [
        "# Import ResNet model and train our model on these images"
      ],
      "metadata": {
        "id": "cvDTM5SVkMcw"
      }
    },
    {
      "cell_type": "code",
      "source": [
        "from tensorflow.keras.models import Model\n",
        "from tensorflow.keras.applications.resnet50 import ResNet50\n",
        "from tensorflow.keras.layers import Input, Add, Dropout,Dense, Activation, ZeroPadding2D,\\\n",
        "               BatchNormalization, Flatten, Conv2D, GlobalAveragePooling2D, MaxPooling2D, GlobalMaxPooling2D,MaxPool2D\n",
        "from tensorflow.keras.optimizers import SGD, Adam\n",
        "from keras.callbacks import EarlyStopping, ModelCheckpoint"
      ],
      "metadata": {
        "id": "wVH5RLCyjy-g"
      },
      "execution_count": 34,
      "outputs": []
    },
    {
      "cell_type": "code",
      "source": [
        "# loading ResNet50\n",
        "# Loading the pretrained model without the output of the last convolution block \n",
        "model = ResNet50(include_top=False, input_shape=(224, 224, 3), weights = 'imagenet')"
      ],
      "metadata": {
        "id": "NeznqaRf-r_b",
        "colab": {
          "base_uri": "https://localhost:8080/"
        },
        "outputId": "f4f5dba4-bed2-478b-bcab-a7464f55f8a1"
      },
      "execution_count": 35,
      "outputs": [
        {
          "output_type": "stream",
          "name": "stdout",
          "text": [
            "Downloading data from https://storage.googleapis.com/tensorflow/keras-applications/resnet/resnet50_weights_tf_dim_ordering_tf_kernels_notop.h5\n",
            "94773248/94765736 [==============================] - 0s 0us/step\n",
            "94781440/94765736 [==============================] - 0s 0us/step\n"
          ]
        }
      ]
    },
    {
      "cell_type": "code",
      "source": [
        "for layer in model.layers:\n",
        "  layer.trainable=False"
      ],
      "metadata": {
        "id": "pg1C_gKREPs6"
      },
      "execution_count": 36,
      "outputs": []
    },
    {
      "cell_type": "code",
      "source": [
        "x=model.output\n",
        "x=Flatten()(x)\n",
        "x=Dense(1024,activation='relu')(x)\n",
        "x=Dropout(0.5)(x)\n",
        "prediction=Dense(1,activation='sigmoid')(x)\n",
        "model_final=Model(model.input,prediction)"
      ],
      "metadata": {
        "id": "m-xOq-Ar__73"
      },
      "execution_count": 37,
      "outputs": []
    },
    {
      "cell_type": "code",
      "source": [
        "#Compile Model\n",
        "model_final.compile(optimizer = \"adam\",loss='binary_crossentropy',metrics=['accuracy'])"
      ],
      "metadata": {
        "id": "jnxIYXvmAcQa"
      },
      "execution_count": 41,
      "outputs": []
    },
    {
      "cell_type": "code",
      "source": [
        "checkpoint=ModelCheckpoint(\"ResNet.h5\",monitor='val_loss',save_best_only=True,save_weights_only=False,mode='auto',period=1)\n",
        "early=EarlyStopping(monitor='val_loss',min_delta=0.0001,patience=7,mode='auto')"
      ],
      "metadata": {
        "colab": {
          "base_uri": "https://localhost:8080/"
        },
        "id": "K3IViL2KAekE",
        "outputId": "bac38bf1-4fc8-4cac-f2f2-70886e825404"
      },
      "execution_count": 50,
      "outputs": [
        {
          "output_type": "stream",
          "name": "stderr",
          "text": [
            "WARNING:tensorflow:`period` argument is deprecated. Please use `save_freq` to specify the frequency in number of batches seen.\n"
          ]
        }
      ]
    },
    {
      "cell_type": "code",
      "source": [
        "batch_size=4"
      ],
      "metadata": {
        "id": "MiVTx-xBAiFA"
      },
      "execution_count": 62,
      "outputs": []
    },
    {
      "cell_type": "code",
      "source": [
        "len(df_train)"
      ],
      "metadata": {
        "colab": {
          "base_uri": "https://localhost:8080/"
        },
        "id": "mOX7Iil3Ar-G",
        "outputId": "86dac31a-3667-4201-8e1f-bf9e8fc0473a"
      },
      "execution_count": 58,
      "outputs": [
        {
          "output_type": "execute_result",
          "data": {
            "text/plain": [
              "1364"
            ]
          },
          "metadata": {},
          "execution_count": 58
        }
      ]
    },
    {
      "cell_type": "code",
      "source": [
        "len(df_eval)"
      ],
      "metadata": {
        "colab": {
          "base_uri": "https://localhost:8080/"
        },
        "id": "h6YD1s-IAudR",
        "outputId": "75c78866-73d1-4c6c-f2e4-2159cd7eec08"
      },
      "execution_count": 59,
      "outputs": [
        {
          "output_type": "execute_result",
          "data": {
            "text/plain": [
              "248"
            ]
          },
          "metadata": {},
          "execution_count": 59
        }
      ]
    },
    {
      "cell_type": "code",
      "source": [
        "steps_per_epoch=len(df_train)//batch_size\n",
        "validation_steps=len(df_val)//batch_size"
      ],
      "metadata": {
        "id": "3nvHkBu8BrjB"
      },
      "execution_count": 63,
      "outputs": []
    },
    {
      "cell_type": "code",
      "source": [
        "history=model_final.fit_generator(generator=train_generator,\n",
        "                                  steps_per_epoch=steps_per_epoch,\n",
        "                                  validation_data=validation_generator,\n",
        "                                  validation_steps=validation_steps,\n",
        "                                  epochs=100,\n",
        "                                  callbacks=[checkpoint,early])"
      ],
      "metadata": {
        "colab": {
          "base_uri": "https://localhost:8080/"
        },
        "id": "TsrFdGBoB6N6",
        "outputId": "ddec2b00-0833-40c1-93a5-ffad0d56e1d3"
      },
      "execution_count": 67,
      "outputs": [
        {
          "output_type": "stream",
          "name": "stdout",
          "text": [
            "Epoch 1/100\n",
            "  1/341 [..............................] - ETA: 37s - loss: 0.7097 - accuracy: 0.2500"
          ]
        },
        {
          "output_type": "stream",
          "name": "stderr",
          "text": [
            "/usr/local/lib/python3.7/dist-packages/ipykernel_launcher.py:6: UserWarning: `Model.fit_generator` is deprecated and will be removed in a future version. Please use `Model.fit`, which supports generators.\n",
            "  \n"
          ]
        },
        {
          "output_type": "stream",
          "name": "stdout",
          "text": [
            "341/341 [==============================] - 23s 68ms/step - loss: 0.6927 - accuracy: 0.5161 - val_loss: 0.6964 - val_accuracy: 0.4608\n",
            "Epoch 2/100\n",
            "341/341 [==============================] - 22s 64ms/step - loss: 0.6927 - accuracy: 0.5161 - val_loss: 0.6961 - val_accuracy: 0.4608\n",
            "Epoch 3/100\n",
            "341/341 [==============================] - 22s 66ms/step - loss: 0.6927 - accuracy: 0.5161 - val_loss: 0.6960 - val_accuracy: 0.4608\n",
            "Epoch 4/100\n",
            "341/341 [==============================] - 22s 66ms/step - loss: 0.6927 - accuracy: 0.5161 - val_loss: 0.6962 - val_accuracy: 0.4608\n",
            "Epoch 5/100\n",
            "341/341 [==============================] - 22s 64ms/step - loss: 0.6927 - accuracy: 0.5161 - val_loss: 0.6960 - val_accuracy: 0.4608\n",
            "Epoch 6/100\n",
            "341/341 [==============================] - 22s 63ms/step - loss: 0.6927 - accuracy: 0.5161 - val_loss: 0.6963 - val_accuracy: 0.4608\n",
            "Epoch 7/100\n",
            "341/341 [==============================] - 22s 64ms/step - loss: 0.6927 - accuracy: 0.5161 - val_loss: 0.6961 - val_accuracy: 0.4608\n",
            "Epoch 8/100\n",
            "341/341 [==============================] - 21s 63ms/step - loss: 0.6927 - accuracy: 0.5161 - val_loss: 0.6965 - val_accuracy: 0.4608\n",
            "Epoch 9/100\n",
            "341/341 [==============================] - 25s 72ms/step - loss: 0.6927 - accuracy: 0.5161 - val_loss: 0.6964 - val_accuracy: 0.4608\n",
            "Epoch 10/100\n",
            "341/341 [==============================] - 22s 65ms/step - loss: 0.6927 - accuracy: 0.5161 - val_loss: 0.6961 - val_accuracy: 0.4608\n",
            "Epoch 11/100\n",
            "341/341 [==============================] - 22s 64ms/step - loss: 0.6927 - accuracy: 0.5161 - val_loss: 0.6962 - val_accuracy: 0.4608\n",
            "Epoch 12/100\n",
            "341/341 [==============================] - 21s 63ms/step - loss: 0.6928 - accuracy: 0.5161 - val_loss: 0.6962 - val_accuracy: 0.4608\n"
          ]
        }
      ]
    }
  ],
  "metadata": {
    "accelerator": "GPU",
    "colab": {
      "collapsed_sections": [],
      "provenance": []
    },
    "kernelspec": {
      "display_name": "Python 3",
      "name": "python3"
    },
    "language_info": {
      "name": "python"
    }
  },
  "nbformat": 4,
  "nbformat_minor": 0
}